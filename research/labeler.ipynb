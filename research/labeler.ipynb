{
 "cells": [
  {
   "cell_type": "code",
   "execution_count": null,
   "metadata": {},
   "outputs": [],
   "source": [
    "import json\n",
    "\n",
    "import gradio as gr\n",
    "import pandas as pd\n",
    "\n",
    "from library.types import *\n",
    "from library.utils import *"
   ]
  },
  {
   "cell_type": "code",
   "execution_count": null,
   "metadata": {},
   "outputs": [],
   "source": [
    "with open(\"artifacts/feedbacks/labeled.json\", \"r\") as file:\n",
    "    feedbacks = json.load(file)"
   ]
  },
  {
   "cell_type": "code",
   "execution_count": null,
   "metadata": {},
   "outputs": [],
   "source": [
    "# TODO: Add inputs to label issues, suggestions and reviews\n",
    "with gr.Blocks() as demo:\n",
    "    def find_unlabeled(): \n",
    "        for index, feedback in enumerate(feedbacks):\n",
    "            if any([feedback.get(label) is None for label in [\"language\", \"translation\", \"issues\"]]):\n",
    "                return index\n",
    "        return 0\n",
    "\n",
    "    index = gr.State(find_unlabeled())\n",
    "\n",
    "    with gr.Row():\n",
    "        with gr.Column():\n",
    "            customer = gr.Text(value=f\"({index.value+1}/{len(feedbacks)}) {feedbacks[index.value]['customer']}\", label=\"customer\")\n",
    "            content = gr.TextArea(value=feedbacks[index.value][\"content\"], label=\"content\", show_copy_button=True)\n",
    "\n",
    "        with gr.Column():\n",
    "            language = gr.Dropdown(value=feedbacks[index.value].get(\"language\"), label=\"language\", choices=[\"ENGLISH\", \"SPANISH\", \"FRENCH\", \"ITALIAN\", \"GERMAN\", \"PORTUGUESE\", \"UNKNOWN\"])\n",
    "            translation = gr.TextArea(value=feedbacks[index.value].get(\"translation\"), label=\"translation\")\n",
    "\n",
    "    issues = gr.DataFrame(\n",
    "        value=pd.DataFrame.from_records(feedbacks[index.value].get(\"issues\", []), columns=[\"title\", \"description\"]),\n",
    "        label=\"issues\", headers=[\"title\", \"description\"], col_count=(2, \"fixed\"), row_count=(0, \"dynamic\"))\n",
    "\n",
    "    render = lambda index, feedback: {\n",
    "        customer: f\"({index+1}/{len(feedbacks)}) {feedback['customer']}\",\n",
    "        content: feedback[\"content\"],\n",
    "        language: feedback.get(\"language\"),\n",
    "        translation: feedback.get(\"translation\"),\n",
    "        issues: pd.DataFrame.from_records(feedback.get(\"issues\", []), columns=[\"title\", \"description\"]),\n",
    "    }\n",
    "\n",
    "    @gr.Button(\"Find Unlabeled\").click(outputs=[index, customer, content, language, translation, issues])\n",
    "    def find():\n",
    "        new_index = find_unlabeled()\n",
    "        return {\n",
    "            index: new_index,\n",
    "            **render(new_index, feedbacks[new_index])\n",
    "            }\n",
    "\n",
    "    with gr.Row():        \n",
    "        @gr.Button(\"<< Prev\").click(inputs=index, outputs=[index, customer, content, language, translation, issues])\n",
    "        def prev(old_index):\n",
    "            new_index = (old_index - 1) % len(feedbacks)\n",
    "            return {\n",
    "                index: new_index,\n",
    "                **render(new_index, feedbacks[new_index])\n",
    "            }\n",
    "\n",
    "        @gr.Button(\"Next >>\").click(inputs=index, outputs=[index, customer, content, language, translation, issues])\n",
    "        def next(old_index):\n",
    "            new_index = (old_index + 1) % len(feedbacks)\n",
    "            return {\n",
    "                index: new_index,\n",
    "                **render(new_index, feedbacks[new_index])\n",
    "            }\n",
    "\n",
    "    @gr.Button(\"Save\", variant=\"primary\").click(inputs=[index, language, translation, issues])\n",
    "    def save(index, language, translation, issues):\n",
    "        feedbacks[index][\"language\"] = language\n",
    "        feedbacks[index][\"translation\"] = translation\n",
    "        feedbacks[index][\"issues\"] = list(filter(lambda i: any(i.values()), issues.to_dict(\"records\")))\n",
    "\n",
    "        with open(\"artifacts/feedbacks/labeled.json\", \"w\") as file:\n",
    "            json.dump(feedbacks, file, indent=2)\n",
    "\n",
    "    demo.launch(inline=False, inbrowser=True)"
   ]
  }
 ],
 "metadata": {
  "kernelspec": {
   "display_name": "research-Lu3HgufU-py3.11",
   "language": "python",
   "name": "python3"
  },
  "language_info": {
   "codemirror_mode": {
    "name": "ipython",
    "version": 3
   },
   "file_extension": ".py",
   "mimetype": "text/x-python",
   "name": "python",
   "nbconvert_exporter": "python",
   "pygments_lexer": "ipython3",
   "version": "3.11.4"
  }
 },
 "nbformat": 4,
 "nbformat_minor": 2
}
