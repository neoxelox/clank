{
 "cells": [
  {
   "cell_type": "code",
   "execution_count": null,
   "metadata": {},
   "outputs": [],
   "source": [
    "import json\n",
    "import random\n",
    "\n",
    "from library.types import *\n",
    "from library.utils import *"
   ]
  },
  {
   "cell_type": "code",
   "execution_count": null,
   "metadata": {},
   "outputs": [],
   "source": [
    "with open(\"artifacts/feedbacks/cleaned.json\", \"r\") as file:\n",
    "    feedbacks = json.load(file)"
   ]
  },
  {
   "cell_type": "code",
   "execution_count": null,
   "metadata": {},
   "outputs": [],
   "source": [
    "sample_feedbacks = (\n",
    "    list(filter(lambda f: f[\"source\"] == \"TRUSTPILOT\", feedbacks))[:250] +\n",
    "    list(filter(lambda f: f[\"source\"] == \"APP_STORE\", feedbacks))[:250] +\n",
    "    list(filter(lambda f: f[\"source\"] == \"PLAY_STORE\", feedbacks))[:250] +\n",
    "    list(filter(lambda f: f[\"source\"] == \"AMAZON\", feedbacks))[:250]\n",
    ")\n",
    "\n",
    "random.shuffle(sample_feedbacks)"
   ]
  },
  {
   "cell_type": "code",
   "execution_count": null,
   "metadata": {},
   "outputs": [],
   "source": [
    "with open(\"artifacts/feedbacks/labeled.json\", \"w\") as file:\n",
    "    json.dump(sample_feedbacks, file, indent=2)"
   ]
  }
 ],
 "metadata": {
  "kernelspec": {
   "display_name": "research-Lu3HgufU-py3.11",
   "language": "python",
   "name": "python3"
  },
  "language_info": {
   "name": "python",
   "version": "3.11.4"
  }
 },
 "nbformat": 4,
 "nbformat_minor": 2
}
